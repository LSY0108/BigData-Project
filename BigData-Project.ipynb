{
  "nbformat": 4,
  "nbformat_minor": 0,
  "metadata": {
    "colab": {
      "provenance": []
    },
    "kernelspec": {
      "name": "python3",
      "display_name": "Python 3"
    },
    "language_info": {
      "name": "python"
    }
  },
  "cells": [
    {
      "cell_type": "code",
      "execution_count": 3,
      "metadata": {
        "id": "UxSzPKDw6adJ",
        "colab": {
          "base_uri": "https://localhost:8080/"
        },
        "outputId": "88a8e945-b3ec-4363-b23a-f54c6bbce3f4"
      },
      "outputs": [
        {
          "output_type": "stream",
          "name": "stdout",
          "text": [
            "Initial columns: ['행정구역별(1)', '2008', '2008.1', '2009', '2009.1', '2010', '2010.1', '2011', '2011.1', '2012', '2012.1', '2013', '2013.1', '2014', '2014.1', '2015', '2015.1', '2016', '2016.1', '2017', '2017.1', '2018', '2018.1', '2019', '2019.1', '2020', '2020.1', '2021', '2021.1', '2022', '2022.1', '2023', '2023.1']\n",
            "First row: ['행정구역별(1)', '논벼:재배면적 (ha)', '논벼:생산량 (톤)', '논벼:재배면적 (ha)', '논벼:생산량 (톤)', '논벼:재배면적 (ha)', '논벼:생산량 (톤)', '논벼:재배면적 (ha)', '논벼:생산량 (톤)', '논벼:재배면적 (ha)', '논벼:생산량 (톤)', '논벼:재배면적 (ha)', '논벼:생산량 (톤)', '논벼:재배면적 (ha)', '논벼:생산량 (톤)', '논벼:재배면적 (ha)', '논벼:생산량 (톤)', '논벼:재배면적 (ha)', '논벼:생산량 (톤)', '논벼:재배면적 (ha)', '논벼:생산량 (톤)', '논벼:재배면적 (ha)', '논벼:생산량 (톤)', '논벼:재배면적 (ha)', '논벼:생산량 (톤)', '논벼:재배면적 (ha)', '논벼:생산량 (톤)', '논벼:재배면적 (ha)', '논벼:생산량 (톤)', '논벼:재배면적 (ha)', '논벼:생산량 (톤)', '논벼:재배면적 (ha)', '논벼:생산량 (톤)']\n",
            "\n",
            "처리된 데이터 형태:\n",
            "  행정구역    연도  재배면적(ha)   생산량(톤)\n",
            "0  강원도  2009  198678.0  40420.0\n",
            "1  강원도  2010  209299.0  38809.0\n",
            "2  강원도  2011  176069.0  35914.0\n",
            "3  강원도  2012  170916.0  34772.0\n",
            "4  강원도  2013  163675.0  33947.0\n",
            "\n",
            "데이터 크기: (255, 4)\n",
            "\n",
            "행정구역별 데이터 개수:\n",
            "행정구역\n",
            "강원도        15\n",
            "세종특별자치시    15\n",
            "충청남도       15\n",
            "제주도        15\n",
            "전라북도       15\n",
            "전라남도       15\n",
            "인천광역시      15\n",
            "울산광역시      15\n",
            "서울특별시      15\n",
            "경기도        15\n",
            "부산광역시      15\n",
            "대전광역시      15\n",
            "대구광역시      15\n",
            "광주광역시      15\n",
            "경상북도       15\n",
            "경상남도       15\n",
            "충청북도       15\n",
            "Name: count, dtype: int64\n"
          ]
        },
        {
          "output_type": "stream",
          "name": "stderr",
          "text": [
            "/usr/local/lib/python3.10/dist-packages/openpyxl/styles/stylesheet.py:237: UserWarning: Workbook contains no default style, apply openpyxl's default\n",
            "  warn(\"Workbook contains no default style, apply openpyxl's default\")\n"
          ]
        }
      ],
      "source": [
        "import pandas as pd\n",
        "\n",
        "# 데이터를 DataFrame으로 읽기\n",
        "df = pd.read_excel('/content/시군별_논벼_생산량.xlsx')\n",
        "\n",
        "# 첫 두 행을 확인하여 올바른 데이터 구조 파악\n",
        "print(\"Initial columns:\", df.columns.tolist())\n",
        "print(\"First row:\", df.iloc[0].tolist())\n",
        "\n",
        "# 실제 데이터 구조에 맞게 처리\n",
        "# 두 번째 행을 새로운 열 이름으로 사용\n",
        "new_columns = []\n",
        "for col in df.iloc[1]:\n",
        "    if pd.isna(col):\n",
        "        new_columns.append('temp')  # 임시 이름 부여\n",
        "    else:\n",
        "        new_columns.append(str(col))\n",
        "df.columns = new_columns\n",
        "\n",
        "# 첫 두 행 제거 (이미 열 이름으로 사용했으므로)\n",
        "df = df.iloc[2:].reset_index(drop=True)\n",
        "\n",
        "# 빈 리스트 생성\n",
        "processed_data = []\n",
        "\n",
        "# 각 행정구역별로 데이터 처리\n",
        "for idx, row in df.iterrows():\n",
        "    region = row.iloc[0]  # 첫 번째 열이 행정구역\n",
        "\n",
        "    # 열 이름을 순회하면서 데이터 추출\n",
        "    for i in range(0, len(row)-1, 2):  # 2칸씩 건너뛰며 처리\n",
        "        if i+1 < len(row):  # 인덱스 범위 확인\n",
        "            year = 2008 + (i//2)  # 연도 계산\n",
        "            area = row.iloc[i]\n",
        "            production = row.iloc[i+1]\n",
        "\n",
        "            # 데이터 추가 (문자열 '-' 처리 포함)\n",
        "            try:\n",
        "                area_value = float(area) if pd.notnull(area) and str(area) != '-' else 0\n",
        "                production_value = float(production) if pd.notnull(production) and str(production) != '-' else 0\n",
        "\n",
        "                processed_data.append({\n",
        "                    '행정구역': region,\n",
        "                    '연도': year,\n",
        "                    '재배면적(ha)': area_value,\n",
        "                    '생산량(톤)': production_value\n",
        "                })\n",
        "            except ValueError:\n",
        "                continue  # 숫자로 변환할 수 없는 경우 건너뛰기\n",
        "\n",
        "# 새로운 DataFrame 생성\n",
        "result_df = pd.DataFrame(processed_data)\n",
        "\n",
        "# 데이터 정렬\n",
        "result_df = result_df.sort_values(['행정구역', '연도']).reset_index(drop=True)\n",
        "\n",
        "# 결과 확인\n",
        "print(\"\\n처리된 데이터 형태:\")\n",
        "print(result_df.head())\n",
        "print(\"\\n데이터 크기:\", result_df.shape)\n",
        "\n",
        "# 엑셀로 저장\n",
        "result_df.to_excel('processed_rice_production.xlsx', index=False)\n",
        "\n",
        "# 각 행정구역별 데이터 개수 확인\n",
        "print(\"\\n행정구역별 데이터 개수:\")\n",
        "print(result_df['행정구역'].value_counts())"
      ]
    },
    {
      "cell_type": "code",
      "source": [
        "df2 = pd.read_excel('/content/processed_rice_production.xlsx')\n",
        "print(df2.head(120))"
      ],
      "metadata": {
        "colab": {
          "base_uri": "https://localhost:8080/"
        },
        "id": "OKzk1dglkLnQ",
        "outputId": "e93aa71d-8563-46f4-bf6c-d06f248022e9"
      },
      "execution_count": 6,
      "outputs": [
        {
          "output_type": "stream",
          "name": "stdout",
          "text": [
            "      행정구역    연도  재배면적(ha)  생산량(톤)\n",
            "0      강원도  2009    198678   40420\n",
            "1      강원도  2010    209299   38809\n",
            "2      강원도  2011    176069   35914\n",
            "3      강원도  2012    170916   34772\n",
            "4      강원도  2013    163675   33947\n",
            "..     ...   ...       ...     ...\n",
            "115  부산광역시  2019     12310    2330\n",
            "116  부산광역시  2020     11880    2307\n",
            "117  부산광역시  2021     10281    2169\n",
            "118  부산광역시  2022     11523    2123\n",
            "119  부산광역시  2023     10801    1927\n",
            "\n",
            "[120 rows x 4 columns]\n"
          ]
        }
      ]
    }
  ]
}